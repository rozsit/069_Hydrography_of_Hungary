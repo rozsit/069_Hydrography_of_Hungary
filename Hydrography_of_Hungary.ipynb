{
 "cells": [
  {
   "cell_type": "code",
   "execution_count": 1,
   "id": "aff1dd0d-533a-4043-8e8f-da28cb23e55d",
   "metadata": {},
   "outputs": [],
   "source": [
    "import geopandas as gpd\n",
    "import matplotlib.pyplot as plt\n",
    "import contextily as ctx\n",
    "import osmnx as ox"
   ]
  },
  {
   "cell_type": "code",
   "execution_count": 2,
   "id": "2646231e-60d9-4250-97e8-5e60a7397685",
   "metadata": {},
   "outputs": [],
   "source": [
    "# Load Hungary's boundary\n",
    "hungary = ox.geocode_to_gdf('Hungary')\n",
    "\n",
    "# Hydrography feature file names\n",
    "feature_files = {\n",
    "    \"river\": \"hungary_river.geojson\",\n",
    "    \"canal\": \"hungary_canal.geojson\",\n",
    "    \"water\": \"hungary_water.geojson\",\n",
    "    \"stream\": \"hungary_stream.geojson\",\n",
    "    \"drain\": \"hungary_drain.geojson\"\n",
    "}\n",
    "\n",
    "# Load hydrography features\n",
    "water_features = {key: gpd.read_file(file) for key, file in feature_files.items()}"
   ]
  },
  {
   "cell_type": "code",
   "execution_count": 23,
   "id": "df0c21f3-ca99-4fa4-882b-0b751032cc49",
   "metadata": {},
   "outputs": [],
   "source": [
    "# Visualization styles\n",
    "feature_styles = {\n",
    "    \"river\": {\"color\": \"deepskyblue\", \"alpha\": 1, \"linewidth\": 1.7, \"zorder\": 2},\n",
    "    \"canal\": {\"color\": \"cornflowerblue\", \"alpha\": 0.9, \"linewidth\": 0.7, \"zorder\": 1},\n",
    "    \"water\": {\"color\": \"cornflowerblue\", \"alpha\": 0.9, \"linewidth\": 0.6, \"zorder\": 1},\n",
    "    \"stream\": {\"color\": \"royalblue\", \"alpha\": 0.8, \"linewidth\": 0.5, \"zorder\": 1},\n",
    "    \"drain\": {\"color\": \"royalblue\", \"alpha\": 0.8, \"linewidth\": 0.5, \"zorder\": 1}\n",
    "}"
   ]
  },
  {
   "cell_type": "code",
   "execution_count": null,
   "id": "e4a1ff7e-7abf-488f-9c32-92f90fb77921",
   "metadata": {
    "scrolled": true
   },
   "outputs": [],
   "source": [
    "# Create the map\n",
    "fig, ax = plt.subplots(figsize=(12, 10))\n",
    "\n",
    "# Plot Hungary's boundary\n",
    "hungary.plot(ax=ax, color='none', edgecolor='tan', linestyle='-.', linewidth=1.3)\n",
    "\n",
    "# Plot hydrography features\n",
    "for subcategory, feature_data in water_features.items():\n",
    "    feature_data.plot(ax=ax, **feature_styles[subcategory])\n",
    "\n",
    "# Add a basemap\n",
    "ctx.add_basemap(ax, crs=hungary.crs, source=ctx.providers.CartoDB.DarkMatterNoLabels, zoom=10)\n",
    "\n",
    "# Set axis limits\n",
    "ax.set_xlim(*hungary.total_bounds[[0, 2]])\n",
    "ax.set_ylim(*hungary.total_bounds[[1, 3]])\n",
    "\n",
    "# Set title\n",
    "plt.title(\"Hydrography of Hungary\\n(rivers, lakes, canals, streams, drains)\", fontsize=15)\n",
    "ax.axis(\"off\")\n",
    "\n",
    "# Save and display the plot\n",
    "plt.savefig('Hydrography of Hungary.png', dpi=400, bbox_inches='tight')\n",
    "plt.show()"
   ]
  }
 ],
 "metadata": {
  "kernelspec": {
   "display_name": "GEOenv",
   "language": "python",
   "name": "env"
  },
  "language_info": {
   "codemirror_mode": {
    "name": "ipython",
    "version": 3
   },
   "file_extension": ".py",
   "mimetype": "text/x-python",
   "name": "python",
   "nbconvert_exporter": "python",
   "pygments_lexer": "ipython3",
   "version": "3.12.1"
  }
 },
 "nbformat": 4,
 "nbformat_minor": 5
}
